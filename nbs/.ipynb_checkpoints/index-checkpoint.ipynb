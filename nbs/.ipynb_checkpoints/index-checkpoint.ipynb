{
 "cells": [
  {
   "cell_type": "markdown",
   "metadata": {},
   "source": [
    "status:WIP\n",
    "\n",
    "# SP_blog\n",
    "\n",
    "This will become a personal blog dealing mainly with topic about mathematical optimization.\n",
    "\n",
    "At the moment its mainly about how to build a blog with nbdev and quarto and publish it on github.\n",
    "As the documentation for these three tools is exhaustive, the corresponding blog post aggregate what was relevant for myself.\n",
    "\n",
    "\n",
    "\n",
    "# local setup\n",
    "\n",
    "Here I use conda for environment management and poetry for package management.\n",
    "Here I use jupyter lab as UI.\n",
    "\n",
    "```\n",
    "conda env create -f --name [your enviroment names] environment.yml\n",
    "conda activate [your enviroment names]\n",
    "poetry install\n",
    "```\n"
   ]
  }
 ],
 "metadata": {
  "kernelspec": {
   "display_name": "Python 3 (ipykernel)",
   "language": "python",
   "name": "python3"
  }
 },
 "nbformat": 4,
 "nbformat_minor": 4
}
