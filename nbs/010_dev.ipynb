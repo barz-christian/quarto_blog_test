{
 "cells": [
  {
   "cell_type": "code",
   "execution_count": null,
   "id": "d9a91bc8-885b-4bae-b6f0-4c5f5f1f43fe",
   "metadata": {},
   "outputs": [],
   "source": [
    "#| default_exp test"
   ]
  },
  {
   "cell_type": "code",
   "execution_count": null,
   "id": "a39dda4a-7a91-463e-b7db-0dd37a44ccd6",
   "metadata": {},
   "outputs": [],
   "source": [
    "%load_ext autoreload\n",
    "%autoreload 2"
   ]
  },
  {
   "cell_type": "markdown",
   "id": "58dc6945-8dbc-4dd1-9c5c-810163f27ffb",
   "metadata": {},
   "source": [
    "# using nbdev in notebooks\n",
    "\n",
    "This is a how-to use guide for nbdev, recalling the basic commands to get started and presenting a basic workflow.\n",
    "\n",
    "1. `#| default_exp [mod name]` - declare module name in one of the first nb cells\n",
    "1. `#| export` - declare notebooks cells which will be exported to module\n",
    "1. (optional) include tests\n",
    "1. Set up autoreload at the top of your notebook\n",
    "```\n",
    "%load_ext autoreload\n",
    "%autoreload 2\n",
    "```\n",
    "1. end notebook by exporting module/work\n",
    "```\n",
    "#| hide\n",
    "import nbdev; nbdev.nbdev_export()\n",
    "```"
   ]
  },
  {
   "cell_type": "code",
   "execution_count": null,
   "id": "6263223f-5a41-43f8-a20b-129d2e3bac32",
   "metadata": {},
   "outputs": [],
   "source": [
    "#| export\n",
    "def dat():\n",
    "    out = {1: \"hi\"}\n",
    "    return out"
   ]
  },
  {
   "cell_type": "markdown",
   "id": "9487ba96-ed3e-4309-a7ab-f87684dbd3ed",
   "metadata": {},
   "source": [
    "# steps at the end\n",
    "\n",
    "- nbdev_clean\n",
    "- nbdev_preview\n",
    "- nbdev_export\n",
    "- nbdev_test\n",
    "- pip install -e\n"
   ]
  },
  {
   "cell_type": "code",
   "execution_count": null,
   "id": "86e27703-0a2d-4cc3-93fa-e44f89463786",
   "metadata": {},
   "outputs": [],
   "source": [
    "#| hide\n",
    "import nbdev; nbdev.nbdev_export()"
   ]
  },
  {
   "cell_type": "code",
   "execution_count": null,
   "id": "2d2d1c20",
   "metadata": {},
   "outputs": [],
   "source": []
  }
 ],
 "metadata": {
  "kernelspec": {
   "display_name": "Python 3 (ipykernel)",
   "language": "python",
   "name": "python3"
  }
 },
 "nbformat": 4,
 "nbformat_minor": 5
}
