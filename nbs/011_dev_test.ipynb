{
 "cells": [
  {
   "cell_type": "code",
   "execution_count": null,
   "id": "ebf248db-6db1-452c-94b0-5ba9a2579152",
   "metadata": {},
   "outputs": [],
   "source": [
    "%load_ext autoreload\n",
    "%autoreload 2"
   ]
  },
  {
   "cell_type": "code",
   "execution_count": null,
   "id": "b306ca77-f9f2-4236-9c6e-dc9b20252cf8",
   "metadata": {},
   "outputs": [
    {
     "ename": "ImportError",
     "evalue": "cannot import name 'dat' from 'test' (/home/christian/miniconda3/envs/quarto_blog/lib/python3.8/test/__init__.py)",
     "output_type": "error",
     "traceback": [
      "\u001b[0;31m---------------------------------------------------------------------------\u001b[0m",
      "\u001b[0;31mImportError\u001b[0m                               Traceback (most recent call last)",
      "Cell \u001b[0;32mIn[3], line 1\u001b[0m\n\u001b[0;32m----> 1\u001b[0m \u001b[38;5;28;01mfrom\u001b[39;00m \u001b[38;5;21;01mtest\u001b[39;00m \u001b[38;5;28;01mimport\u001b[39;00m dat\n",
      "\u001b[0;31mImportError\u001b[0m: cannot import name 'dat' from 'test' (/home/christian/miniconda3/envs/quarto_blog/lib/python3.8/test/__init__.py)"
     ]
    }
   ],
   "source": [
    "from SP_blog.test import dat"
   ]
  },
  {
   "cell_type": "markdown",
   "id": "a83f0aeb-ae13-462d-a427-ab39c9e258c5",
   "metadata": {},
   "source": [
    "# error message / why it is not running\n",
    "\n",
    "```\n",
    "(quarto_blog) christian@christian:~/programming/SP_blog$ pip install -e .\n",
    "Obtaining file:///home/christian/programming/SP_blog\n",
    "  Installing build dependencies ... done\n",
    "  Checking if build backend supports build_editable ... done\n",
    "  Getting requirements to build editable ... done\n",
    "  Preparing editable metadata (pyproject.toml) ... error\n",
    "  error: subprocess-exited-with-error\n",
    "  \n",
    "  × Preparing editable metadata (pyproject.toml) did not run successfully.\n",
    "  │ exit code: 1\n",
    "  ╰─> [16 lines of output]\n",
    "      Traceback (most recent call last):\n",
    "        File \"/home/christian/miniconda3/envs/quarto_blog/lib/python3.8/site-packages/pip/_vendor/pep517/in_process/_in_process.py\", line 363, in <module>\n",
    "          main()\n",
    "        File \"/home/christian/miniconda3/envs/quarto_blog/lib/python3.8/site-packages/pip/_vendor/pep517/in_process/_in_process.py\", line 345, in main\n",
    "          json_out['return_val'] = hook(**hook_input['kwargs'])\n",
    "        File \"/home/christian/miniconda3/envs/quarto_blog/lib/python3.8/site-packages/pip/_vendor/pep517/in_process/_in_process.py\", line 191, in prepare_metadata_for_build_editable\n",
    "          return hook(metadata_directory, config_settings)\n",
    "        File \"/tmp/pip-build-env-hdw2_1jp/overlay/lib/python3.8/site-packages/poetry/core/masonry/api.py\", line 41, in prepare_metadata_for_build_wheel\n",
    "          builder = WheelBuilder(poetry)\n",
    "        File \"/tmp/pip-build-env-hdw2_1jp/overlay/lib/python3.8/site-packages/poetry/core/masonry/builders/wheel.py\", line 59, in __init__\n",
    "          super().__init__(poetry, executable=executable)\n",
    "        File \"/tmp/pip-build-env-hdw2_1jp/overlay/lib/python3.8/site-packages/poetry/core/masonry/builders/builder.py\", line 83, in __init__\n",
    "          self._module = Module(\n",
    "        File \"/tmp/pip-build-env-hdw2_1jp/overlay/lib/python3.8/site-packages/poetry/core/masonry/utils/module.py\", line 69, in __init__\n",
    "          raise ModuleOrPackageNotFound(\n",
    "      poetry.core.masonry.utils.module.ModuleOrPackageNotFound: No file/folder found for package sp-blog\n",
    "      [end of output]\n",
    "  \n",
    "  note: This error originates from a subprocess, and is likely not a problem with pip.\n",
    "error: metadata-generation-failed\n",
    "\n",
    "× Encountered error while generating package metadata.\n",
    "╰─> See above for output.\n",
    "\n",
    "note: This is an issue with the package mentioned above, not pip.\n",
    "hint: See above for details.\n",
    "```"
   ]
  },
  {
   "cell_type": "code",
   "execution_count": null,
   "id": "d390f74d-2ca4-4c4b-9b50-e4c4f10c7f7b",
   "metadata": {},
   "outputs": [],
   "source": [
    "dat"
   ]
  }
 ],
 "metadata": {
  "kernelspec": {
   "display_name": "Python 3 (ipykernel)",
   "language": "python",
   "name": "python3"
  }
 },
 "nbformat": 4,
 "nbformat_minor": 5
}
