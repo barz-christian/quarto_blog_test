{
 "cells": [
  {
   "cell_type": "raw",
   "id": "02bb4297-7f92-434d-99b8-6bd280c20c45",
   "metadata": {},
   "source": [
    "---\n",
    "title: \"Ambulance example with chance constraints\"\n",
    "author: \"cbarz\"\n",
    "date: \"2022-11-30\"\n",
    "categories: [pyomo, modeling, chance constraints]\n",
    "description: In a stochastic program we can put uncertainty on the constraints. .\n",
    "draft: true\n",
    "---"
   ]
  },
  {
   "cell_type": "markdown",
   "id": "09b6a4d8-96e4-404c-b840-2c39990b88a9",
   "metadata": {},
   "source": [
    "# Change constraints \n",
    "\n",
    "In stochastic programs with chance constraints the goal is to make an optimal decision prior to the realization of random data while allowing the constraints (or some of them) to be violated with a certain probability. We note that chance constraints are also called probabilistic constraints."
   ]
  },
  {
   "cell_type": "markdown",
   "id": "81149ac1-1916-426b-85fc-e216a051f681",
   "metadata": {},
   "source": [
    "## General mathematical formulation of a stochastic programm with change constraints\n",
    "\n",
    "Let $x$ denote the decision variable, $c$ the coefficients of the objective function, $A$ a random matrix representing the left-hand side of the constraints and $b$ a random vector representing the right-hand side of the constraints.\n",
    "\n",
    "$$\n",
    "\\begin{array}{ll}\n",
    "\\min & c\\cdot x \\\\\n",
    "s.t. & P(Ax \\leq b) \\geq p \\\\\n",
    "     & x \\geq 0\n",
    "\\end{array}\n",
    "$$\n",
    "\n",
    "One way to solve such a stochastic problem is to translate it into an equivalent mixed-integer problem (MIP).\n",
    "For $S$ a given set of scenarios, we introduce binary variables $y_k$ for each scenario $k\\in S$, which takes the value 1 if and only if the corresponding constraint is satisfied in scenario $k$. \n",
    "\n",
    "The equivalent scenario based formulation using the Big-M method of above stochatic programm with change constraints is the following:\n",
    "\n",
    "$$\n",
    "\\begin{array}{ll}\n",
    "\\min & c \\cdot x \\\\\n",
    "s.t. & A_kx \\leq b_k + M_k(1-y_k) \\\\\n",
    "     & \\sum_{k\\in S} y_k \\geq p\\times |S| \\\\\n",
    "     & x \\geq 0, \\; y\\in\\{0,1\\}^{|S|}\n",
    "\\end{array}\n",
    "$$\n",
    "\n",
    "### Single chance constraints\n",
    "\n",
    "- TBD\n",
    "- only one constraint has to be satisfied with some probability\n",
    "\n",
    "### Multiple chance consttraints\n",
    "\n",
    "- TBD\n",
    "- more than on constraint has to be satisfied with some probability\n",
    "- joint chance constraints\n",
    "- individual chance constraints"
   ]
  },
  {
   "cell_type": "markdown",
   "id": "e5403da3-4235-43c8-ae06-04e0f07e3585",
   "metadata": {},
   "source": [
    "# Ambulance example with chance constraints\n",
    "\n",
    "We recall our covering location problem:\n",
    "\n",
    "We have to decide which of $n$ possible locations $j\\in\\{1,\\ldots,n\\}$ we use as as an ambulance service \n",
    "\n",
    "\n",
    "If a new emergency call arrives from region, the emergency unit may be busy and serving another call. This may happen at location $j$ with probability $p$. For simplicity we assume that this probability is the same at all locations.\n",
    "\n",
    "This means the requirement, that each village $i$ has a location in its range $t_i$, needs to be replaced by the requirement that the probability $P(\\text{at least one emergency unit from in range is available})\\geq \\alpha$, where $\\alpha$ denotes some confidence level for example $90\\%$ or $95\\%$.\n",
    "\n",
    "As the probability that none emergency unit is available in range of village $i$ is $p^{\\sum_{j\\in N_i} x_j}$, the probabilistic constraint is \n",
    "\n",
    "$$\n",
    "1 - p^{\\sum_{j\\in N_i} x_j} \\geq \\alpha\n",
    "$$\n",
    "\n",
    "This is non linear with respect to our decision variables, we take a logarithm (as we like to do linear programming):\n",
    "\n",
    "$$\n",
    "\\begin{array}{ll}\n",
    "& \\log(p) \\cdot \\sum_{j\\in N_i} x_j \\leq \\log(1-\\alpha)\\\\\n",
    "& \\sum_{j\\in N_i} x_j \\geq \\lceil \\frac{\\log(1-\\alpha)}{\\log(p)}\\rceil\n",
    "\\end{array}\n",
    "$$\n",
    "\n",
    "where for a real number $x$ the symbol $\\lceil x \\rceil$ denotes the smallest integer greater or equal to $x$.\n",
    "\n",
    "Putting all together we derive the following:\n",
    "\n",
    "$$\n",
    "\\begin{array}{lllc}\n",
    "\\min & \\sum_{j=1}^n c_j x_j & & \\\\\n",
    "s.t. & \\sum_{j\\in N_i} x_j \\geq \\lceil \\frac{\\log(1-\\alpha)}{\\log(p)}\\rceil, & i\\in\\{1,\\ldots,m\\} & (c1)\\\\\n",
    "     & x_j\\in \\{1,0\\}, & j\\in\\{1,\\ldots,n\\} &\n",
    "\\end{array}\n",
    "$$"
   ]
  }
 ],
 "metadata": {
  "kernelspec": {
   "display_name": "Python 3 (ipykernel)",
   "language": "python",
   "name": "python3"
  }
 },
 "nbformat": 4,
 "nbformat_minor": 5
}
