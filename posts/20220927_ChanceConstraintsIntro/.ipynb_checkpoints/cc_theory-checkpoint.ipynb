{
 "cells": [
  {
   "cell_type": "raw",
   "id": "985b6af2-9b28-40a4-8aef-8cc478a43881",
   "metadata": {},
   "source": [
    "---\n",
    "title: \"Change constraints with examples in pyomo\"\n",
    "author: \"cbarz\"\n",
    "date: \"2022-09-27\"\n",
    "categories: [pyomo, modeling]\n",
    "draft: true\n",
    "code-fold: true\n",
    "toc: true\n",
    "toc-depth: 2\n",
    "number-sections: true\n",
    "number-depth: 2\n",
    "description: In a stochastic program we can put uncertainty on the constraints. We give a short introduction about the different types of chance constraints and implement some examples in pyomo.\n",
    "---"
   ]
  },
  {
   "cell_type": "markdown",
   "id": "f03b2044",
   "metadata": {},
   "source": [
    "# Change Constraints\n",
    "\n",
    "In a stochastic program with chance constraints we make an optimal decision prior to the realization of random data while allowing constraints to be violated with a probability specified by us. Chance constraints are also called probabilistic constraints.\n",
    "\n",
    "\n",
    "In this post we will give the general mathematical description for stochastic programs with chance constraints and explain the following types of change constraints:\n",
    "\n",
    "- single chance constraint\n",
    "- joint chance constraints\n",
    "- individual chance constraints\n",
    "\n",
    "Moreover we will implement a basic example of each type in pyomo."
   ]
  },
  {
   "cell_type": "markdown",
   "id": "8c1cda64",
   "metadata": {},
   "source": [
    "## Mathematical formulation\n",
    "\n",
    "A stochastic program with chance constraints can be expressed mathematically as follows:\n",
    "\n",
    "$$\n",
    "\\begin{array}{ll}\n",
    "\\min_x & c\\cdot x \\\\\n",
    "s.t.   & P(Ax\\leq b) \\geq p\\\\\n",
    "       & x\\geq 0\n",
    "\\end{array}\n",
    "$$\n",
    "\n",
    "where the symbols are denoting:\n",
    "\n",
    "- $x\\in\\mathbb{R}^n$ the decision variable, \n",
    "- $c\\in\\mathbb{R}^n$ the coefficients in the objective function,\n",
    "- $A\\in\\mathbb{R}^{m\\times n}$ coefficient of the constraints,\n",
    "- $b\\in\\mathbb{R}^m$ the right hand side of the constraints and\n",
    "- $p\\in(0,1]$ is the probability that the constraints (or some of them) may be violated.\n",
    "\n",
    "The distinguish feature of a stochastic program with chance constraint is $P(Ax\\le b) \\geq p$, which allows that the constraints may be violated with *risk tolerance* $\\epsilon=1-p$."
   ]
  },
  {
   "cell_type": "markdown",
   "id": "aeb9d463",
   "metadata": {},
   "source": [
    "## Scenario based solution of models with chance constraints\n",
    "\n",
    "Supose we can describe the distribution $P(Ax\\leq b)$ by set $S$ of scenarios. Then we can reformulate the stochastic program with change constraints as a mixed-integer problem. Therefore introduce a binary variable $y_k$ which equals 1 if and only if the constraint is satisfied in scenario $k$. Afterwards the stochastic program with chance constraint is given by:\n",
    "\n",
    "$$\n",
    "\\begin{array}{ll}\n",
    "\\min & c x \\\\\n",
    "s.t. & A_kx \\leq b_k + M_k(1-y_k) \\\\\n",
    "     & \\sum_{k\\in S} p_k y_k \\geq p \\\\\n",
    "     & x\\geq0,  y\\in \\{0,1\\}^{|S|}\n",
    "\\end{array}\n",
    "$$\n",
    "\n",
    "Here $M_k\\in\\mathbb{R}^m$ is a suitable choosen big-M vector and $p_k$ the likelihood of scenario $k$."
   ]
  },
  {
   "cell_type": "markdown",
   "id": "b7ab4840",
   "metadata": {},
   "source": [
    "# Single change constraints"
   ]
  },
  {
   "cell_type": "markdown",
   "id": "50a45b64-5b1f-4d18-900e-cc1bb4ed131c",
   "metadata": {},
   "source": [
    "The simplest case is when there is only one constraint - a single chance constraint.\n",
    "\n",
    "The following example is taken from the GAMS documentation:\n",
    "\n",
    "$$\n",
    "\\begin{array}{llc}\n",
    "\\min & x_1+x_2 &\\\\\n",
    "s.t. & p(\\omega x_1+x_2 \\geq 7) \\geq 0.75 & \\; \\omega\\in S\\\\\n",
    "     & x_1,x_2\\geq 0 &\n",
    "\\end{array}\n",
    "$$"
   ]
  },
  {
   "cell_type": "markdown",
   "id": "3a11c16a-4cfb-43a8-b02d-92a296abc394",
   "metadata": {},
   "source": [
    "Suppose we have four equaly likely scenarios"
   ]
  },
  {
   "cell_type": "code",
   "execution_count": null,
   "id": "5e9e1039",
   "metadata": {},
   "outputs": [],
   "source": [
    "I = [1,2]\n",
    "S = [1,2,3,4]\n",
    "Omega = {1:1, 2:2, 3:3, 4:4}\n",
    "prob = {1:0.25, 2:0.25, 3:0.25, 4:0.25}\n",
    "risk = 0.75"
   ]
  },
  {
   "cell_type": "code",
   "execution_count": null,
   "id": "41c873b2-cd92-468b-a8d6-c421f9cf2286",
   "metadata": {},
   "outputs": [],
   "source": [
    "import pyomo.environ as pyo\n",
    "import pandas as pd"
   ]
  },
  {
   "cell_type": "markdown",
   "id": "7485f365-9cbf-4a2b-9682-7d2e75cc6382",
   "metadata": {},
   "source": [
    "A pyomo implementation is given in the next code cell."
   ]
  },
  {
   "cell_type": "code",
   "execution_count": null,
   "id": "a698fe3c-fb79-421b-9b32-3ffa64b66e22",
   "metadata": {},
   "outputs": [],
   "source": [
    "def single_cc(risk, I, S, prob, omega):\n",
    "    ## sets\n",
    "    m = pyo.ConcreteModel()\n",
    "    m.I = pyo.Set(initialize = I, doc = 'index decision var')\n",
    "    m.S = pyo.Set(initialize = S, doc = 'scenario set')\n",
    "    \n",
    "    ## parameter\n",
    "    @m.Param(m.S)\n",
    "    def omega(m,s):\n",
    "        return Omega[s]\n",
    "    \n",
    "    @m.Param(m.S)\n",
    "    def p(m,s):\n",
    "        return prob[s]\n",
    "    \n",
    "    m.M = pyo.Param(initialize = 1000)\n",
    "    m.r = pyo.Param(initialize = 1 - risk, doc = 'risk tolerance')\n",
    "    \n",
    "    # vars\n",
    "    m.x = pyo.Var(m.I, domain = pyo.NonNegativeReals)\n",
    "    m.y = pyo.Var(m.S, domain = pyo.Binary)\n",
    "    m.cc = pyo.Var(domain = pyo.NonNegativeReals, bounds = (0, m.r))\n",
    "    \n",
    "    # objective\n",
    "    m.OBJ = pyo.Objective(expr = sum(m.x[i] for i in m.I), sense = pyo.minimize)\n",
    "    \n",
    "    # constraints\n",
    "    @m.Constraint(m.S)\n",
    "    def c1(m, s):\n",
    "        return m.omega[s] * m.x[1] + m.x[2] >= 7 - m.M * (1 - m.y[s])\n",
    "    \n",
    "    m.cc_def = pyo.Constraint(expr = m.cc == 1 - sum(m.p[k] * m.y[k] for k in m.S))\n",
    "    \n",
    "    solver = pyo.SolverFactory('glpk')\n",
    "    solver.solve(m)\n",
    "    \n",
    "    return m"
   ]
  },
  {
   "cell_type": "markdown",
   "id": "9b1ce0e7-8c52-4537-bb08-3e76819902d9",
   "metadata": {},
   "source": [
    "### inspect solution\n",
    "\n",
    "Lets inspect the values of the optimal solution:"
   ]
  },
  {
   "cell_type": "code",
   "execution_count": null,
   "id": "2feba35f",
   "metadata": {},
   "outputs": [
    {
     "name": "stdout",
     "output_type": "stream",
     "text": [
      "x : Size=2, Index=I\n",
      "    Key : Lower : Value : Upper : Fixed : Stale : Domain\n",
      "      1 :     0 :   3.5 :  None : False : False : NonNegativeReals\n",
      "      2 :     0 :   0.0 :  None : False : False : NonNegativeReals\n"
     ]
    }
   ],
   "source": [
    "m = single_cc(risk, I,S,prob,Omega)\n",
    "m.x.pprint()"
   ]
  },
  {
   "cell_type": "markdown",
   "id": "f88fc7bf-3740-4916-8548-1350878b3839",
   "metadata": {},
   "source": [
    "Lets inspect which scenarios were violated."
   ]
  },
  {
   "cell_type": "code",
   "execution_count": null,
   "id": "2aac9ce0",
   "metadata": {},
   "outputs": [
    {
     "name": "stdout",
     "output_type": "stream",
     "text": [
      "y : Size=4, Index=S\n",
      "    Key : Lower : Value : Upper : Fixed : Stale : Domain\n",
      "      1 :     0 :   0.0 :     1 : False : False : Binary\n",
      "      2 :     0 :   1.0 :     1 : False : False : Binary\n",
      "      3 :     0 :   1.0 :     1 : False : False : Binary\n",
      "      4 :     0 :   1.0 :     1 : False : False : Binary\n"
     ]
    }
   ],
   "source": [
    "m.y.pprint()"
   ]
  },
  {
   "cell_type": "markdown",
   "id": "a0f4f3c4-2122-40b9-a9b1-28dcc4b92b72",
   "metadata": {},
   "source": [
    "### Evaluating solution\n",
    "\n",
    "As each scenario has a likelihood of 0.25 and our risk tolerance was 0.25 too, we allow precisely one scenario/constraint to be violated.\n",
    "\n",
    "Obviously the first scenario/constraint was violated, because here the coefficient of $x_1$ is smallest."
   ]
  },
  {
   "cell_type": "markdown",
   "id": "496e5ba1-e8cc-4a15-9964-0bb416cab29b",
   "metadata": {},
   "source": [
    "# Multiple chance constraints\n"
   ]
  },
  {
   "cell_type": "markdown",
   "id": "e5c640a1-c97f-42d5-a0e0-a29270c0c8b2",
   "metadata": {},
   "source": [
    "## Joint chance constraints\n",
    "\n",
    "In stochastic programs with joint chance constraints all constraints have to be satisfied simultaneously.\n",
    "\n",
    "The following example is taken from the GAMS documentation:\n",
    "\n",
    "$$\n",
    "\\begin{array}{llc}\n",
    "\\min & x_1 + x_2 & \\\\\n",
    "s.t. & P(\\omega_1 x_1 +x_2 \\geq 7, \\omega_2 x_1 +3 x_2 \\geq 12) \\geq 0.6 & (\\omega_1,\\omega_2) \\in S \\\\\n",
    "     & x_1,x_2\\geq 0 &\n",
    "\\end{array}\n",
    "$$"
   ]
  },
  {
   "cell_type": "markdown",
   "id": "c9b58807-a63d-48b2-882f-8d9a6181c1e7",
   "metadata": {},
   "source": [
    "Suppose we have 12 equaly likely scenarios."
   ]
  },
  {
   "cell_type": "code",
   "execution_count": null,
   "id": "d29e04a3-a100-425b-bde3-f566ba2fa575",
   "metadata": {},
   "outputs": [
    {
     "data": {
      "text/html": [
       "<div>\n",
       "<style scoped>\n",
       "    .dataframe tbody tr th:only-of-type {\n",
       "        vertical-align: middle;\n",
       "    }\n",
       "\n",
       "    .dataframe tbody tr th {\n",
       "        vertical-align: top;\n",
       "    }\n",
       "\n",
       "    .dataframe thead th {\n",
       "        text-align: right;\n",
       "    }\n",
       "</style>\n",
       "<table border=\"1\" class=\"dataframe\">\n",
       "  <thead>\n",
       "    <tr style=\"text-align: right;\">\n",
       "      <th></th>\n",
       "      <th>omega_1</th>\n",
       "      <th>omega_2</th>\n",
       "      <th>probability</th>\n",
       "    </tr>\n",
       "    <tr>\n",
       "      <th>sceanrio</th>\n",
       "      <th></th>\n",
       "      <th></th>\n",
       "      <th></th>\n",
       "    </tr>\n",
       "  </thead>\n",
       "  <tbody>\n",
       "    <tr>\n",
       "      <th>1</th>\n",
       "      <td>1.0</td>\n",
       "      <td>1.0</td>\n",
       "      <td>0.083333</td>\n",
       "    </tr>\n",
       "    <tr>\n",
       "      <th>2</th>\n",
       "      <td>1.0</td>\n",
       "      <td>2.0</td>\n",
       "      <td>0.083333</td>\n",
       "    </tr>\n",
       "    <tr>\n",
       "      <th>3</th>\n",
       "      <td>1.0</td>\n",
       "      <td>3.0</td>\n",
       "      <td>0.083333</td>\n",
       "    </tr>\n",
       "    <tr>\n",
       "      <th>4</th>\n",
       "      <td>2.0</td>\n",
       "      <td>1.0</td>\n",
       "      <td>0.083333</td>\n",
       "    </tr>\n",
       "    <tr>\n",
       "      <th>5</th>\n",
       "      <td>2.0</td>\n",
       "      <td>2.0</td>\n",
       "      <td>0.083333</td>\n",
       "    </tr>\n",
       "    <tr>\n",
       "      <th>6</th>\n",
       "      <td>2.0</td>\n",
       "      <td>3.0</td>\n",
       "      <td>0.083333</td>\n",
       "    </tr>\n",
       "    <tr>\n",
       "      <th>7</th>\n",
       "      <td>3.0</td>\n",
       "      <td>1.0</td>\n",
       "      <td>0.083333</td>\n",
       "    </tr>\n",
       "    <tr>\n",
       "      <th>8</th>\n",
       "      <td>3.0</td>\n",
       "      <td>2.0</td>\n",
       "      <td>0.083333</td>\n",
       "    </tr>\n",
       "    <tr>\n",
       "      <th>9</th>\n",
       "      <td>3.0</td>\n",
       "      <td>3.0</td>\n",
       "      <td>0.083333</td>\n",
       "    </tr>\n",
       "    <tr>\n",
       "      <th>10</th>\n",
       "      <td>4.0</td>\n",
       "      <td>1.0</td>\n",
       "      <td>0.083333</td>\n",
       "    </tr>\n",
       "    <tr>\n",
       "      <th>11</th>\n",
       "      <td>4.0</td>\n",
       "      <td>2.0</td>\n",
       "      <td>0.083333</td>\n",
       "    </tr>\n",
       "    <tr>\n",
       "      <th>12</th>\n",
       "      <td>4.0</td>\n",
       "      <td>3.0</td>\n",
       "      <td>0.083333</td>\n",
       "    </tr>\n",
       "  </tbody>\n",
       "</table>\n",
       "</div>"
      ],
      "text/plain": [
       "          omega_1  omega_2  probability\n",
       "sceanrio                               \n",
       "1             1.0      1.0     0.083333\n",
       "2             1.0      2.0     0.083333\n",
       "3             1.0      3.0     0.083333\n",
       "4             2.0      1.0     0.083333\n",
       "5             2.0      2.0     0.083333\n",
       "6             2.0      3.0     0.083333\n",
       "7             3.0      1.0     0.083333\n",
       "8             3.0      2.0     0.083333\n",
       "9             3.0      3.0     0.083333\n",
       "10            4.0      1.0     0.083333\n",
       "11            4.0      2.0     0.083333\n",
       "12            4.0      3.0     0.083333"
      ]
     },
     "execution_count": null,
     "metadata": {},
     "output_type": "execute_result"
    }
   ],
   "source": [
    "#| code-fold: true\n",
    "\n",
    "S = {\n",
    "    1: {'omega_1': 1, 'omega_2': 1, 'probability': 1./12. },\n",
    "    2: {'omega_1': 1, 'omega_2': 2, 'probability': 1./12. },\n",
    "    3: {'omega_1': 1, 'omega_2': 3, 'probability': 1./12. },\n",
    "    4: {'omega_1': 2, 'omega_2': 1, 'probability': 1./12. },\n",
    "    5: {'omega_1': 2, 'omega_2': 2, 'probability': 1./12. },\n",
    "    6: {'omega_1': 2, 'omega_2': 3, 'probability': 1./12. },\n",
    "    7: {'omega_1': 3, 'omega_2': 1, 'probability': 1./12. },\n",
    "    8: {'omega_1': 3, 'omega_2': 2, 'probability': 1./12. },\n",
    "    9: {'omega_1': 3, 'omega_2': 3, 'probability': 1./12. },\n",
    "    10: {'omega_1': 4, 'omega_2': 1, 'probability': 1./12. },\n",
    "    11: {'omega_1': 4, 'omega_2': 2, 'probability': 1./12. },\n",
    "    12: {'omega_1': 4, 'omega_2': 3, 'probability': 1./12. },\n",
    "}\n",
    "p = 0.6\n",
    "df = pd.DataFrame(S).T\n",
    "df.index.name = 'sceanrio'\n",
    "df"
   ]
  },
  {
   "cell_type": "markdown",
   "id": "57c3eff8-c986-410f-84ed-0b3ef422af18",
   "metadata": {},
   "source": [
    "A pyomo implementation is given in the next code cell."
   ]
  },
  {
   "cell_type": "code",
   "execution_count": null,
   "id": "dfc55c01-d2e8-495b-8b4f-bb1a6c78d705",
   "metadata": {},
   "outputs": [],
   "source": [
    "def joint_cc(S, p):\n",
    "    \n",
    "    m = pyo.ConcreteModel()\n",
    "    # sets\n",
    "    m.I = pyo.Set(initialize = [1,2], doc = 'index decision var')\n",
    "    m.S = pyo.Set(initialize = S.keys(), doc = 'scenario indices')\n",
    "    \n",
    "    # param\n",
    "    m.r = pyo.Param(initialize = 1 - p, doc = '1-p - risk tolerance')\n",
    "    m.M = pyo.Param(initialize = 100, doc = 'big-M')\n",
    "    \n",
    "    @m.Param(m.S, doc ='scenario probability')\n",
    "    def p(m,s):\n",
    "        return S[s]['probability']\n",
    "    \n",
    "    @m.Param(m.S, doc = 'coefficient omega_1')\n",
    "    def omega1(m,s):\n",
    "        return S[s]['omega_1']\n",
    "    @m.Param(m.S, doc = 'coefficient omega_2')\n",
    "    def omega2(m,s):\n",
    "        return S[s]['omega_2']\n",
    "    \n",
    "    # vars\n",
    "    m.x = pyo.Var(m.I, domain = pyo.NonNegativeReals)\n",
    "    m.y = pyo.Var(m.S, domain = pyo.Binary)\n",
    "    m.cc = pyo.Var(domain = pyo.NonNegativeReals, bounds = (0, m.r))\n",
    "    \n",
    "    # objective\n",
    "    m.OBJ = pyo.Objective(expr = sum(m.x[i] for i in m.I), sense = pyo.minimize)\n",
    "    \n",
    "    \n",
    "    # constraints\n",
    "    @m.Constraint(m.S, doc = '1st inequal of joint prob')\n",
    "    def c1(m, s):\n",
    "        return m.omega1[s] * m.x[1] + m.x[2] >= 7 - m.M * (1- m.y[s])\n",
    "    \n",
    "    @m.Constraint(m.S, doc = '2nd inequal of joint prob')\n",
    "    def c2(m, s):\n",
    "        return m.omega2[s] * m.x[1] + 3*m.x[2] >= 12 - m.M * (1- m.y[s])\n",
    "    \n",
    "    m.cc_def = pyo.Constraint(expr = m.cc == 1 - sum(m.p[k] * m.y[k] for k in m.S))\n",
    "    \n",
    "    solver = pyo.SolverFactory('glpk')\n",
    "    solver.solve(m)\n",
    "    \n",
    "    return(m)"
   ]
  },
  {
   "cell_type": "markdown",
   "id": "29742070-2205-4b83-87ac-1dd2f449f08e",
   "metadata": {},
   "source": [
    "### inspect solution and check implementation\n",
    "\n",
    "First we inspect the values of the decision variables."
   ]
  },
  {
   "cell_type": "code",
   "execution_count": null,
   "id": "7b99addc-1055-4aea-8545-260cf58d8df5",
   "metadata": {},
   "outputs": [
    {
     "name": "stdout",
     "output_type": "stream",
     "text": [
      "x : Size=2, Index=I\n",
      "    Key : Lower : Value : Upper : Fixed : Stale : Domain\n",
      "      1 :     0 :   1.8 :  None : False : False : NonNegativeReals\n",
      "      2 :     0 :   3.4 :  None : False : False : NonNegativeReals\n"
     ]
    }
   ],
   "source": [
    "m = joint_cc(S,p)\n",
    "# inspect decision\n",
    "m.x.pprint()"
   ]
  },
  {
   "cell_type": "markdown",
   "id": "46f83e9d-7526-42c8-b0bc-fa956520e64f",
   "metadata": {},
   "source": [
    "We look which scenarios were violated next."
   ]
  },
  {
   "cell_type": "code",
   "execution_count": null,
   "id": "071938b5-5f30-4cca-bf93-5d07934a502f",
   "metadata": {},
   "outputs": [
    {
     "name": "stdout",
     "output_type": "stream",
     "text": [
      "y : Size=12, Index=S\n",
      "    Key : Lower : Value : Upper : Fixed : Stale : Domain\n",
      "      1 :     0 :   0.0 :     1 : False : False : Binary\n",
      "      2 :     0 :   0.0 :     1 : False : False : Binary\n",
      "      3 :     0 :   0.0 :     1 : False : False : Binary\n",
      "      4 :     0 :   0.0 :     1 : False : False : Binary\n",
      "      5 :     0 :   1.0 :     1 : False : False : Binary\n",
      "      6 :     0 :   1.0 :     1 : False : False : Binary\n",
      "      7 :     0 :   1.0 :     1 : False : False : Binary\n",
      "      8 :     0 :   1.0 :     1 : False : False : Binary\n",
      "      9 :     0 :   1.0 :     1 : False : False : Binary\n",
      "     10 :     0 :   1.0 :     1 : False : False : Binary\n",
      "     11 :     0 :   1.0 :     1 : False : False : Binary\n",
      "     12 :     0 :   1.0 :     1 : False : False : Binary\n"
     ]
    }
   ],
   "source": [
    "# inspect violation\n",
    "m.y.pprint()"
   ]
  },
  {
   "cell_type": "markdown",
   "id": "af61a478-c7ba-4044-9003-dd2db3c8530b",
   "metadata": {},
   "source": [
    "At last we check the value of the corresponding risk."
   ]
  },
  {
   "cell_type": "code",
   "execution_count": null,
   "id": "284933fa-58a2-4a57-99d4-ae73ef11fce1",
   "metadata": {},
   "outputs": [
    {
     "name": "stdout",
     "output_type": "stream",
     "text": [
      "cc : Size=1, Index=None\n",
      "    Key  : Lower : Value             : Upper : Fixed : Stale : Domain\n",
      "    None :     0 : 0.333333333333333 :   0.4 : False : False : NonNegativeReals\n"
     ]
    }
   ],
   "source": [
    "# inspect risk\n",
    "m.cc.pprint()"
   ]
  },
  {
   "cell_type": "markdown",
   "id": "bf45bd9d-9c99-4071-9e71-232d3287c733",
   "metadata": {},
   "source": [
    "### evaluating solution\n",
    "\n",
    "We see that both constraints are satisfied in 8 scenarios. Indeed as there are 12 equally likely scenarios, at least $12\\cdot 0.6 \\approx 7.2$ scenarios have to be satisfied.\n",
    "\n",
    "Obviously the solution violates the scenarios/constraints with the smallest coeffients for $x_1$."
   ]
  },
  {
   "cell_type": "raw",
   "id": "c12c5393-2981-43ba-9b6a-8b72ec57107f",
   "metadata": {},
   "source": [
    "for s in m.S:\n",
    "    if pyo.value(m.y[s]) != 1:\n",
    "        print('scenario: ' + str(s))\n",
    "        m.c1[s].pprint()\n",
    "        m.c2[s].pprint()"
   ]
  },
  {
   "cell_type": "markdown",
   "id": "b8ce6470-af2d-4b43-9b5f-888bacd1667d",
   "metadata": {},
   "source": [
    "## Individual chance constraints\n",
    "\n",
    "If there is no correlation between the probabilities of the matrix $A$, then we have a stochastic problem with individual chance constraints and the linear program has the following form:\n",
    "\n",
    "$$\n",
    "\\begin{array}{llc}\n",
    "\\min & cx & \\\\\n",
    "s.t. & P(A_ix \\leq b_i) \\geq p_i,& \\text{for}\\; i = 1,\\ldots,m\\\\\n",
    "     & x \\geq 0 &\n",
    "\\end{array}\n",
    "$$\n"
   ]
  },
  {
   "cell_type": "markdown",
   "id": "dbbe1b1a-f63d-4bb9-a41f-90b2f041dc21",
   "metadata": {},
   "source": [
    "Again we use an example from the GAMS documentation:\n",
    "\n",
    "$$\n",
    "\\begin{array}{lll}\n",
    "\\min & x_1 + x_2 & \\\\\n",
    "s.t. & P(\\omega_1 x_1 + x 2 \\geq 7 ) \\geq 0.75, & \\omega_1\\in S_1:=\\{1,2,3,4\\} \\\\\n",
    "     & P(\\omega_2 x_1 + 3*x 2 \\geq 12 ) \\geq 0.6, & \\omega_2\\in S_2:=\\{1,2,3\\} \\\\\n",
    "     & P(\\omega_1 x_1 + \\omega_2*x 2 \\geq 10 ) \\geq 0.5, & \\omega_2\\in S:= S_1 \\times S_2 \\\\\n",
    "     & x_1,x_2 \\geq 0\n",
    "\\end{array}\n",
    "$$"
   ]
  },
  {
   "cell_type": "markdown",
   "id": "51020f74-47f9-47e3-bed3-8c5ff5e425bb",
   "metadata": {},
   "source": [
    "- a binary decision variable $y_{s,i}$ for each individual chance constraint $i$ and each scenario $s$\n",
    "- a \"risk variable\" $cc_i$ for each individual chance constraint"
   ]
  },
  {
   "cell_type": "code",
   "execution_count": null,
   "id": "623435d2-93fc-423b-8327-3d77b557bdb5",
   "metadata": {},
   "outputs": [],
   "source": [
    "# data\n",
    "S1 = {1:1, 2:2, 3:3, 4:4}\n",
    "S2 = {1:1, 2:2, 3:3}"
   ]
  },
  {
   "cell_type": "markdown",
   "id": "3ebe0f80-ef2d-470c-9951-8c5f109b9a08",
   "metadata": {},
   "source": [
    "A pyomo implementation is given in the next code cell."
   ]
  },
  {
   "cell_type": "code",
   "execution_count": null,
   "id": "c909cdd6-5e77-4626-9ade-94569dd8ad13",
   "metadata": {},
   "outputs": [],
   "source": [
    "# model not written for speed, e.g. contains redundant constraints\n",
    "def individual_cc(S1,S2):\n",
    "    m = pyo.ConcreteModel('Individual Chance Constraints')\n",
    "    \n",
    "    #sets\n",
    "    m.I = pyo.Set(initialize = [1,2], doc = 'index decision variables')\n",
    "    m.S1 = pyo.Set(initialize = S1.keys(), doc = 'index set S1')\n",
    "    m.S2 = pyo.Set(initialize = S2.keys(), doc = 'index set S2')\n",
    "    m.S = pyo.Set(initialize = m.S1 * m.S2, doc = 'index scenarios')\n",
    "    \n",
    "    # parameter\n",
    "    m.M = pyo.Param(initialize = 1000., doc = 'big-M')\n",
    "    \n",
    "    @m.Param(m.S, doc ='scenario probability')\n",
    "    def p(m,_s1,_s2):\n",
    "        return 1. / len(m.S)\n",
    "    @m.Param(m.S1, doc = 'coefficients for S1')\n",
    "    def omega1(m,s1):\n",
    "        return S1[s1]\n",
    "    @m.Param(m.S2, doc = 'coefficients for S2')\n",
    "    def omega2(m,s2):\n",
    "        return S2[s2]\n",
    "    \n",
    "    # vars\n",
    "    m.x = pyo.Var(m.I, domain = pyo.NonNegativeReals)\n",
    "    m.y1 = pyo.Var(m.S, domain = pyo.Binary)\n",
    "    m.y2 = pyo.Var(m.S, domain = pyo.Binary)\n",
    "    m.y3 = pyo.Var(m.S, domain = pyo.Binary)\n",
    "    m.cc1 = pyo.Var(domain = pyo.NonNegativeReals, bounds = (0, 1 - 0.75))\n",
    "    m.cc2 = pyo.Var(domain = pyo.NonNegativeReals, bounds = (0, 1 - 0.6))\n",
    "    m.cc3 = pyo.Var(domain = pyo.NonNegativeReals, bounds = (0, 1 - 0.5))\n",
    "    \n",
    "    # objective\n",
    "    m.OBJ = pyo.Objective(expr = sum(m.x[i] for i in m.I), sense = pyo.minimize)\n",
    "    \n",
    "    \n",
    "    # constraints\n",
    "    @m.Constraint(m.S, doc = 'individual chance constraint 1')\n",
    "    def C1(m,s1,s2):\n",
    "        return m.omega1[s1] * m.x[1] + m.x[2] >= 7 - m.M * (1- m.y1[s1,s2])\n",
    "    \n",
    "    @m.Constraint(m.S, doc = 'individual chance constraint 2')\n",
    "    def C2(m,s1,s2):\n",
    "        return m.omega2[s2] * m.x[1] + 3 * m.x[2] >= 12 - m.M * (1 - m.y2[s1,s2])\n",
    "    \n",
    "    @m.Constraint(m.S, doc = 'individual chance constraint 3')\n",
    "    def C3(m,s1,s2):\n",
    "        return m.omega1[s1] * m.x[1] + m.omega2[s2] * m.x[2] >= 10 - m.M * (1 - m.y3[s1,s2])\n",
    "    \n",
    "    \n",
    "    \n",
    "    m.cc1_def = pyo.Constraint(expr = m.cc1 == 1 - sum(m.p[s1,s2] * m.y1[s1,s2] for s1,s2 in m.S))\n",
    "    m.cc2_def = pyo.Constraint(expr = m.cc2 == 1 - sum(m.p[s1,s2] * m.y2[s1,s2] for s1,s2 in m.S))\n",
    "    m.cc3_def = pyo.Constraint(expr = m.cc3 == 1 - sum(m.p[s1,s2] * m.y3[s1,s2] for s1,s2 in m.S))\n",
    "    \n",
    "    \n",
    "    solver = pyo.SolverFactory('glpk')\n",
    "    solver.solve(m)\n",
    "    \n",
    "    return m"
   ]
  },
  {
   "cell_type": "markdown",
   "id": "9d8712c5-34d3-4dd0-9226-93d85993b915",
   "metadata": {},
   "source": [
    "### inspect solution\n",
    "\n",
    "First we look at the values of decision variables of the stochastic program with individual chance constraints from abive."
   ]
  },
  {
   "cell_type": "code",
   "execution_count": null,
   "id": "a8aeeecd-8302-4084-9172-c94660b6bb31",
   "metadata": {},
   "outputs": [
    {
     "name": "stdout",
     "output_type": "stream",
     "text": [
      "x : Size=2, Index=I\n",
      "    Key : Lower : Value : Upper : Fixed : Stale : Domain\n",
      "      1 :     0 :  2.25 :  None : False : False : NonNegativeReals\n",
      "      2 :     0 :   2.5 :  None : False : False : NonNegativeReals\n"
     ]
    }
   ],
   "source": [
    "m = individual_cc(S1,S2)\n",
    "#m.pprint()\n",
    "m.x.pprint()"
   ]
  },
  {
   "cell_type": "markdown",
   "id": "93c00896-9358-4af5-b6be-465b2adf3f8b",
   "metadata": {},
   "source": [
    "Next we look at the violated constraints/scenarios."
   ]
  },
  {
   "cell_type": "code",
   "execution_count": null,
   "id": "45db06dd-2b09-4b13-8c56-f5e20a3e45e8",
   "metadata": {},
   "outputs": [
    {
     "name": "stdout",
     "output_type": "stream",
     "text": [
      "violated scenarios for individual chance constraint 1:\n",
      "[(1, 1), (1, 2), (1, 3)]\n",
      "violated scenarios for individual chance constraint 2:\n",
      "[(1, 1), (2, 1), (3, 1), (4, 1)]\n",
      "violated scenarios for individual chance constraint 3:\n",
      "[(1, 1), (1, 2), (1, 3), (2, 1), (2, 2), (3, 1)]\n"
     ]
    }
   ],
   "source": [
    "print('violated scenarios for individual chance constraint 1:')\n",
    "print([(s1,s2) for s1,s2 in m.S if pyo.value(m.y1[s1,s2]) == 0])\n",
    "\n",
    "\n",
    "print('violated scenarios for individual chance constraint 2:')\n",
    "print([(s1,s2) for s1,s2 in m.S if pyo.value(m.y2[s1,s2]) == 0])\n",
    "\n",
    "print('violated scenarios for individual chance constraint 3:')\n",
    "print([(s1,s2) for s1,s2 in m.S if pyo.value(m.y3[s1,s2]) == 0])\n"
   ]
  },
  {
   "cell_type": "code",
   "execution_count": null,
   "id": "ae947f0e-2b3b-466a-955f-0a7601a7b4b8",
   "metadata": {},
   "outputs": [
    {
     "name": "stdout",
     "output_type": "stream",
     "text": [
      "risk of individual chance constraint 1: 0.25\n",
      "risk of individual chance constraint 2: 0.333333333333333\n",
      "risk of individual chance constraint 3: 0.5\n"
     ]
    }
   ],
   "source": [
    "print('risk of individual chance constraint 1: ' + str(pyo.value(m.cc1)))\n",
    "\n",
    "print('risk of individual chance constraint 2: ' + str(pyo.value(m.cc2)))\n",
    "\n",
    "print('risk of individual chance constraint 3: ' + str(pyo.value(m.cc3)))"
   ]
  },
  {
   "cell_type": "markdown",
   "id": "d9f8bdc8-b3b3-4079-bef7-9c2bf69d093d",
   "metadata": {},
   "source": [
    "### evaluating solution\n",
    "\n",
    "\n",
    "TBD"
   ]
  },
  {
   "cell_type": "markdown",
   "id": "a3a02755-b616-4a3e-b0c5-7fd273fdcb1e",
   "metadata": {},
   "source": [
    "# joint vs. individual chance constraints\n",
    "\n",
    "Of course the choice whether a joint or individual chance constraint is used depends on the problem being modeled, but\n",
    "\n",
    "### Joint Chance-constraint Pros:\n",
    "\n",
    "- using multiple inequalities to define a system can result in a more robust solution\n",
    "- helps modeling specific system constraints to ensure they meet a certain satisfaction level with an anticipated probability.\n",
    "\n",
    "### Joint Chance-constraint Cons:\n",
    "\n",
    "- solving large systems with multiple constraints can be difficult\n",
    "    \n",
    "### Individual Chance-constraint Pros:\n",
    "\n",
    "- modeling the entire system requires only one inequality\n",
    "- may help to simplify the problem statement (of the modeled system)\n",
    "\n",
    "### Individual Chance-constraint Cons:\n",
    "\n",
    "- solving may be computationally difficult or even impossible\n",
    "- oversimplification of the model -> may lead to a partial, incomplete solution"
   ]
  },
  {
   "cell_type": "markdown",
   "id": "dc17defe-cfa3-477d-b0b6-71f278d8a5ce",
   "metadata": {},
   "source": [
    "# References\n",
    "\n",
    "- https://optimization.mccormick.northwestern.edu/index.php/Chance-constraint_method\n",
    "- https://www.gams.com/latest/docs/UG_EMP_SP.html#UG_EMP_ChanceConstraints"
   ]
  },
  {
   "cell_type": "code",
   "execution_count": null,
   "id": "da5a9c63-3e6a-4127-ab99-399acfa14164",
   "metadata": {},
   "outputs": [],
   "source": []
  }
 ],
 "metadata": {
  "kernelspec": {
   "display_name": "Python 3 (ipykernel)",
   "language": "python",
   "name": "python3"
  }
 },
 "nbformat": 4,
 "nbformat_minor": 5
}
