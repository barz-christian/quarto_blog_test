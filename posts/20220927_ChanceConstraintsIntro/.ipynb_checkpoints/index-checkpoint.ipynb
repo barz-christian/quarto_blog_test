{
 "cells": [
  {
   "cell_type": "raw",
   "id": "985b6af2-9b28-40a4-8aef-8cc478a43881",
   "metadata": {},
   "source": [
    "---\n",
    "title: \"Change constraints with examples in pyomo\"\n",
    "author: \"cbarz\"\n",
    "date: \"2022-09-27\"\n",
    "categories: [pyomo, modeling]\n",
    "---"
   ]
  },
  {
   "cell_type": "markdown",
   "id": "f03b2044",
   "metadata": {},
   "source": [
    "# Change Constraints\n",
    "\n",
    "In a stochastic program we can put uncertainity also on the constraints.\n",
    "This is called change constraints. we will look at the following types of change constraints:\n",
    "\n",
    "- single chance\n",
    "- joint chance constraints\n",
    "- individual chance constraints"
   ]
  },
  {
   "cell_type": "markdown",
   "id": "8c1cda64",
   "metadata": {},
   "source": [
    "## mathematical expression\n",
    "\n",
    "Mathematically we can express this as follows:\n",
    "\n",
    "$$\n",
    "\\begin{array}{cc}\n",
    "\\min_x & c\\cdot x \\\\\n",
    "s.t.   & P(Ax\\leq b) \\geq p\\\\\n",
    "       & x\\geq 0\n",
    "\\end{array}\n",
    "$$\n",
    "\n",
    "Here the symbols are denoting the following\n",
    "- $x\\in\\mathbb{R}^n$ the decision variable, \n",
    "- $c\\in\\mathbb{R}^n$ the coefficients in the objective function,\n",
    "- $A\\in\\mathbb{R}^{m\\times n}$ coefficient of the constraints,\n",
    "- $b\\in\\mathbb{R}^m$ the right hand side of the constraints and\n",
    "- $p\\in(0,1]$ is the probability that the constraints (or some of them) may be violated."
   ]
  },
  {
   "cell_type": "markdown",
   "id": "aeb9d463",
   "metadata": {},
   "source": [
    "## mathemathical solution\n",
    "\n",
    "we can convert a stochastic program with change constraints into a mixed-integer problem as follows:\n",
    "Let $S$ denote the set of scenarios and $y_k$ binary variables for each $k\\in S$, i.e. $y_k$ equals 1 if and only if the constraint is satisfied in the corresponding scenario, then a scenario-based formulation of the above chance constrained stochastic program is given by:\n",
    "\n",
    "$$\n",
    "\\begin{array}{cc}\n",
    "\\min & c x \\\\\n",
    "s.t. & A_kx \\leq b_k + M_k(1-y_k) \\\\\n",
    "     & \\sum_{k\\in S} y_k \\geq p\\cdot |S| \\\\\n",
    "     & x\\geq0\\\\\n",
    "     & y\\in \\{0,1\\}^{|S|}\n",
    "\\end{array}\n",
    "$$\n",
    "\n",
    "where $M_k\\in\\mathbb{R}^m$ is a suitable choosen big-M vector."
   ]
  },
  {
   "cell_type": "markdown",
   "id": "b7ab4840",
   "metadata": {},
   "source": [
    "## Pyomo examples with single change constraints"
   ]
  },
  {
   "cell_type": "code",
   "execution_count": null,
   "id": "758027fd",
   "metadata": {},
   "outputs": [],
   "source": [
    "import pyomo.environ as pyo"
   ]
  },
  {
   "cell_type": "code",
   "execution_count": null,
   "id": "5e9e1039",
   "metadata": {},
   "outputs": [],
   "source": [
    "I = [1,2]\n",
    "S = [1,2,3,4]\n",
    "Omega = {1:1, 2:2, 3:3, 4:4}\n",
    "prob = {1:0.25, 2:0.25, 3:0.25, 4:0.25}\n",
    "p = 0.75"
   ]
  },
  {
   "cell_type": "code",
   "execution_count": null,
   "id": "24190917",
   "metadata": {},
   "outputs": [],
   "source": [
    "def cc(p, I, S, prob, omega):\n",
    "    ## sets\n",
    "    m = pyo.ConcreteModel()\n",
    "    m.I = pyo.Set(initialize = I)\n",
    "    m.S = pyo.Set(initialize = S)\n",
    "    \n",
    "    ## parameter\n",
    "    @m.Param(m.S)\n",
    "    def omega(m,s):\n",
    "        return Omega[s]\n",
    "    \n",
    "    @m.Param(m.S)\n",
    "    def py(m,s):\n",
    "        return prob[s]\n",
    "    \n",
    "    m.M = pyo.Param(initialize = 10)\n",
    "    m.p = pyo.Param(initialize = 1-p, doc = 'risk tolerance')\n",
    "    \n",
    "    # vars\n",
    "    m.x = pyo.Var(m.I, domain = pyo.NonNegativeReals)\n",
    "    m.y = pyo.Var(m.S, domain = pyo.Binary)\n",
    "    m.cc = pyo.Var(domain = pyo.NonNegativeReals, bounds = (0, m.p))\n",
    "    \n",
    "    # objective\n",
    "    m.OBJ = pyo.Objective(expr = sum(m.x[i] for i in m.I), sense = pyo.minimize)\n",
    "    \n",
    "    # constraints\n",
    "    @m.Constraint(m.S)\n",
    "    def c1(m, s):\n",
    "        return m.omega[s] * m.x[1] + m.x[2] >= 7 + m.M * (1 - m.y[s])\n",
    "    \n",
    "    m.cc_def = pyo.Constraint(expr = m.cc == 1 - sum(m.py[k] * m.y[k] for k in m.S))\n",
    "    \n",
    "    solver = pyo.SolverFactory('glpk')\n",
    "    solver.solve(m)\n",
    "    \n",
    "    return m"
   ]
  },
  {
   "cell_type": "code",
   "execution_count": null,
   "id": "2feba35f",
   "metadata": {},
   "outputs": [
    {
     "name": "stdout",
     "output_type": "stream",
     "text": [
      "2 Set Declarations\n",
      "    I : Size=1, Index=None, Ordered=Insertion\n",
      "        Key  : Dimen : Domain : Size : Members\n",
      "        None :     1 :    Any :    2 : {1, 2}\n",
      "    S : Size=1, Index=None, Ordered=Insertion\n",
      "        Key  : Dimen : Domain : Size : Members\n",
      "        None :     1 :    Any :    4 : {1, 2, 3, 4}\n",
      "\n",
      "4 Param Declarations\n",
      "    M : Size=1, Index=None, Domain=Any, Default=None, Mutable=False\n",
      "        Key  : Value\n",
      "        None :    10\n",
      "    omega : Size=4, Index=S, Domain=Any, Default=None, Mutable=False\n",
      "        Key : Value\n",
      "          1 :     1\n",
      "          2 :     2\n",
      "          3 :     3\n",
      "          4 :     4\n",
      "    p : risk tolerance\n",
      "        Size=1, Index=None, Domain=Any, Default=None, Mutable=False\n",
      "        Key  : Value\n",
      "        None :  0.25\n",
      "    py : Size=4, Index=S, Domain=Any, Default=None, Mutable=False\n",
      "        Key : Value\n",
      "          1 :  0.25\n",
      "          2 :  0.25\n",
      "          3 :  0.25\n",
      "          4 :  0.25\n",
      "\n",
      "3 Var Declarations\n",
      "    cc : Size=1, Index=None\n",
      "        Key  : Lower : Value : Upper : Fixed : Stale : Domain\n",
      "        None :     0 :  0.25 :  0.25 : False : False : NonNegativeReals\n",
      "    x : Size=2, Index=I\n",
      "        Key : Lower : Value : Upper : Fixed : Stale : Domain\n",
      "          1 :     0 :   7.0 :  None : False : False : NonNegativeReals\n",
      "          2 :     0 :   0.0 :  None : False : False : NonNegativeReals\n",
      "    y : Size=4, Index=S\n",
      "        Key : Lower : Value : Upper : Fixed : Stale : Domain\n",
      "          1 :     0 :   1.0 :     1 : False : False : Binary\n",
      "          2 :     0 :   1.0 :     1 : False : False : Binary\n",
      "          3 :     0 :   1.0 :     1 : False : False : Binary\n",
      "          4 :     0 :   0.0 :     1 : False : False : Binary\n",
      "\n",
      "1 Objective Declarations\n",
      "    OBJ : Size=1, Index=None, Active=True\n",
      "        Key  : Active : Sense    : Expression\n",
      "        None :   True : minimize : x[1] + x[2]\n",
      "\n",
      "2 Constraint Declarations\n",
      "    c1 : Size=4, Index=S, Active=True\n",
      "        Key : Lower : Body                                : Upper : Active\n",
      "          1 :  -Inf :   7 + 10*(1 - y[1]) - (x[1] + x[2]) :   0.0 :   True\n",
      "          2 :  -Inf : 7 + 10*(1 - y[2]) - (2*x[1] + x[2]) :   0.0 :   True\n",
      "          3 :  -Inf : 7 + 10*(1 - y[3]) - (3*x[1] + x[2]) :   0.0 :   True\n",
      "          4 :  -Inf : 7 + 10*(1 - y[4]) - (4*x[1] + x[2]) :   0.0 :   True\n",
      "    cc_def : Size=1, Index=None, Active=True\n",
      "        Key  : Lower : Body                                                       : Upper : Active\n",
      "        None :   0.0 : cc - (1 - (0.25*y[1] + 0.25*y[2] + 0.25*y[3] + 0.25*y[4])) :   0.0 :   True\n",
      "\n",
      "12 Declarations: I S omega py M p x y cc OBJ c1 cc_def\n"
     ]
    }
   ],
   "source": [
    "m = cc(p, I,S,prob,Omega)\n",
    "m.pprint()"
   ]
  },
  {
   "cell_type": "code",
   "execution_count": null,
   "id": "2aac9ce0",
   "metadata": {},
   "outputs": [],
   "source": []
  },
  {
   "cell_type": "code",
   "execution_count": null,
   "id": "056138a8",
   "metadata": {},
   "outputs": [],
   "source": []
  }
 ],
 "metadata": {
  "kernelspec": {
   "display_name": "Python 3 (ipykernel)",
   "language": "python",
   "name": "python3"
  }
 },
 "nbformat": 4,
 "nbformat_minor": 5
}
