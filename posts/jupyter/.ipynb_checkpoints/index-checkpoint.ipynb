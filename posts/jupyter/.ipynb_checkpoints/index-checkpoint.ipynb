{
 "cells": [
  {
   "cell_type": "raw",
   "id": "542a0138-7205-4b39-9d21-943286b5026f",
   "metadata": {},
   "source": [
    "---\n",
    "title: \"jupyter test\"\n",
    "author: \"cbarz\"\n",
    "date: \"2022-11-27\"\n",
    "categories: [test]\n",
    "---"
   ]
  },
  {
   "cell_type": "markdown",
   "id": "30fd0108-251b-4e94-9ab7-b8cb4290ae29",
   "metadata": {},
   "source": [
    "# jupyter test"
   ]
  },
  {
   "cell_type": "code",
   "execution_count": null,
   "id": "a98e4761-48de-4f16-83ea-7763ad83ded2",
   "metadata": {},
   "outputs": [],
   "source": [
    "import pyomo.environ as pyo"
   ]
  },
  {
   "cell_type": "code",
   "execution_count": null,
   "id": "03349247-0531-460d-8b60-1c9505d86584",
   "metadata": {},
   "outputs": [],
   "source": [
    "model = pyo.ConcreteModel()\n",
    "\n",
    "model.x = pyo.Var([1,2], domain=pyo.NonNegativeReals)\n",
    "\n",
    "model.OBJ = pyo.Objective(expr = 2*model.x[1] + 3*model.x[2])\n",
    "\n",
    "model.Constraint1 = pyo.Constraint(expr = 3*model.x[1] + 4*model.x[2] >= 1)"
   ]
  },
  {
   "cell_type": "code",
   "execution_count": null,
   "id": "d0f1861b-155a-4f3f-a179-f29075187f87",
   "metadata": {},
   "outputs": [],
   "source": [
    "solver = pyo.SolverFactory('glpk')"
   ]
  },
  {
   "cell_type": "code",
   "execution_count": null,
   "id": "1f1ffbe4-3554-445f-a704-f0e97ae13d27",
   "metadata": {},
   "outputs": [
    {
     "data": {
      "text/plain": [
       "{'Problem': [{'Name': 'unknown', 'Lower bound': 0.666666666666667, 'Upper bound': 0.666666666666667, 'Number of objectives': 1, 'Number of constraints': 2, 'Number of variables': 3, 'Number of nonzeros': 3, 'Sense': 'minimize'}], 'Solver': [{'Status': 'ok', 'Termination condition': 'optimal', 'Statistics': {'Branch and bound': {'Number of bounded subproblems': 0, 'Number of created subproblems': 0}}, 'Error rc': 0, 'Time': 0.01656818389892578}], 'Solution': [OrderedDict([('number of solutions', 0), ('number of solutions displayed', 0)])]}"
      ]
     },
     "execution_count": null,
     "metadata": {},
     "output_type": "execute_result"
    }
   ],
   "source": [
    "solver.solve(model)"
   ]
  },
  {
   "cell_type": "code",
   "execution_count": null,
   "id": "7aed126d-1d50-41ca-83e7-4bc7f35e32d0",
   "metadata": {},
   "outputs": [
    {
     "name": "stdout",
     "output_type": "stream",
     "text": [
      "1 Set Declarations\n",
      "    x_index : Size=1, Index=None, Ordered=Insertion\n",
      "        Key  : Dimen : Domain : Size : Members\n",
      "        None :     1 :    Any :    2 : {1, 2}\n",
      "\n",
      "1 Var Declarations\n",
      "    x : Size=2, Index=x_index\n",
      "        Key : Lower : Value             : Upper : Fixed : Stale : Domain\n",
      "          1 :     0 : 0.333333333333333 :  None : False : False : NonNegativeReals\n",
      "          2 :     0 :               0.0 :  None : False : False : NonNegativeReals\n",
      "\n",
      "1 Objective Declarations\n",
      "    OBJ : Size=1, Index=None, Active=True\n",
      "        Key  : Active : Sense    : Expression\n",
      "        None :   True : minimize : 2*x[1] + 3*x[2]\n",
      "\n",
      "1 Constraint Declarations\n",
      "    Constraint1 : Size=1, Index=None, Active=True\n",
      "        Key  : Lower : Body            : Upper : Active\n",
      "        None :   1.0 : 3*x[1] + 4*x[2] :  +Inf :   True\n",
      "\n",
      "4 Declarations: x_index x OBJ Constraint1\n"
     ]
    }
   ],
   "source": [
    "model.pprint()"
   ]
  },
  {
   "cell_type": "code",
   "execution_count": null,
   "id": "c54f3de4-0630-44f9-9a10-adb41a601ba1",
   "metadata": {},
   "outputs": [],
   "source": []
  }
 ],
 "metadata": {
  "kernelspec": {
   "display_name": "Python 3 (ipykernel)",
   "language": "python",
   "name": "python3"
  }
 },
 "nbformat": 4,
 "nbformat_minor": 5
}
